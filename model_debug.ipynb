{
 "cells": [
  {
   "cell_type": "code",
   "execution_count": 52,
   "metadata": {},
   "outputs": [
    {
     "name": "stdout",
     "output_type": "stream",
     "text": [
      "[    0   893   378 ..., 13646 11426 15791]\n"
     ]
    }
   ],
   "source": [
    "# %load model.py\n",
    "#!/usr/bin/python\n",
    "import pandas as pd\n",
    "import numpy as np\n",
    "import os\n",
    "from sklearn.preprocessing import LabelEncoder\n",
    "from sklearn.ensemble import RandomForestClassifier\n",
    "from sklearn.metrics import log_loss\n",
    "from sklearn.metrics import roc_auc_score\n",
    "from sklearn import metrics\n",
    "import matplotlib.pyplot as plt\n",
    "\n",
    "\n",
    "def preprocessing(df, normalizedFeature):\n",
    "    le = LabelEncoder()\n",
    "    for feature in normalizedFeature:\n",
    "        df[feature] = le.fit_transform(df[feature])\n",
    "\n",
    "def isBanned(df):\n",
    "    if df.status == 0:\n",
    "        return 1\n",
    "    else:\n",
    "        return 0\n",
    "\n",
    "if __name__ == '__main__':\n",
    "    train_file = os.getcwd() + '/data/users_20170801.txt' \n",
    "    df = pd.read_table(train_file, header = 0 )\n",
    "    #print(df.dtypes)\n",
    "    #df.fillna(value=0, inplace=True)\n",
    "    #print(df.loc[df['os_name'] == 'None', ['os_name']])\n",
    "    #print(df.head(100))\n",
    "    #print(df.loc[df['status'] == 'banned', ['user_id', 'status']].head(50))\n",
    "    #print(df[['os_name', 'gender', 'status', 'looking_for_gender']].head(50))\n",
    "    normalizedFeature = ['os_name', 'gender', 'status', 'looking_for_gender']\n",
    "    #print(df['looking_for_gender'].unique())\n",
    "    preprocessing(df, normalizedFeature)\n",
    "    #print(df['looking_for_gender'].unique())\n",
    "    df['label'] = df.apply(isBanned, axis=1)\n",
    "    df['mobile_prefix'] = pd.to_numeric(df['mobile_prefix'], errors = 'coerce')\n",
    "    df.fillna(value=0, inplace=True)\n",
    "    df['mobile_prefix'] = df['mobile_prefix'].astype(int)\n",
    "    #print(df.dtypes)\n",
    "    #df.fillna(0, inplace=True)\n",
    "    #print(df.loc[df['os_name'] == 0, ['os_name']])\n",
    "    row_num = df.shape[0]\n",
    "    #print(df.loc[df['status'] == 0, ['user_id', 'status']].head(50))\n",
    "    samples = df.drop(['user_id', 'status', 'label'], axis=1).as_matrix()  \n",
    "    print(df['received_dislikes'].unique())\n",
    "    #labels = df[['label']].copy()\n",
    "    labels = df['label'].as_matrix()\n",
    "    #print(labels[0:100])\n",
    "    train_samples_num = row_num*9/10\n",
    "    train_samples = samples[0: train_samples_num]\n",
    "    train_labels = labels[0: train_samples_num]\n",
    "    test_samples = samples[train_samples_num : ]\n",
    "    test_labels = labels[train_samples_num : ]    \n",
    "    #print(test_labels.loc[test_labels['label'] == 1].count())\n",
    "  "
   ]
  },
  {
   "cell_type": "code",
   "execution_count": 53,
   "metadata": {},
   "outputs": [
    {
     "name": "stdout",
     "output_type": "stream",
     "text": [
      "             precision    recall  f1-score   support\n",
      "\n",
      "          0       0.98      0.99      0.99     16638\n",
      "          1       0.91      0.80      0.85      1649\n",
      "\n",
      "avg / total       0.97      0.97      0.97     18287\n",
      "\n",
      "[[16500   138]\n",
      " [  325  1324]]\n",
      "['os_name' 'shared_device' 'contact_list' 'gender' 'looking_for_gender'\n",
      " 'age' 'search_min_age' 'search_max_age' 'mobile_prefix' 'given_likes'\n",
      " 'given_dislikes' 'received_likes' 'received_dislikes']\n",
      "[  43.91814964   27.67564306   53.04820082   21.55470157   15.71618397\n",
      "   26.68505077    8.57041532   21.72905384  100.           78.00823498\n",
      "   71.96129609   38.58282549   42.65814136]\n",
      "[ 6  4  3  7  5  1 11 12  0  2 10  9  8]\n",
      "[   8.57041532   15.71618397   21.55470157   21.72905384   26.68505077\n",
      "   27.67564306   38.58282549   42.65814136   43.91814964   53.04820082\n",
      "   71.96129609   78.00823498  100.        ]\n",
      "[  0.5   1.5   2.5   3.5   4.5   5.5   6.5   7.5   8.5   9.5  10.5  11.5\n",
      "  12.5]\n"
     ]
    },
    {
     "data": {
      "image/png": "[encoded data removed]",
      "text/plain": [
       "<matplotlib.figure.Figure at 0x1115e1a10>"
      ]
     },
     "metadata": {},
     "output_type": "display_data"
    }
   ],
   "source": [
    "    rf = RandomForestClassifier(n_estimators=50, n_jobs=-1)\n",
    "    rf.fit(train_samples, train_labels)\n",
    "    predicted = rf.predict(test_samples)\n",
    "    expected = test_labels\n",
    "    print(metrics.classification_report(expected, predicted))\n",
    "    print(metrics.confusion_matrix(expected, predicted))\n",
    "    \n",
    "    feature_names = list()\n",
    "    with open('doc/feature.txt') as fp:\n",
    "        for line in fp:\n",
    "            feature_names.append(line)\n",
    "    print(df.drop(['user_id', 'status', 'label'], axis=1).columns.values)\n",
    "    feature_importance = rf.feature_importances_\n",
    "    feature_importance = 100.0 * (feature_importance / feature_importance.max())\n",
    "    print(feature_importance)\n",
    "    sorted_idx = np.argsort(feature_importance)\n",
    "    print(sorted_idx)\n",
    "    print(feature_importance[sorted_idx])\n",
    "    pos = np.arange(sorted_idx.shape[0]) + .5\n",
    "    print(pos)\n",
    "    plt.subplot(1, 2, 2)\n",
    "    plt.barh(pos, feature_importance[sorted_idx], align='center')\n",
    "    plt.yticks(pos, [feature_names[i] for i in sorted_idx])\n",
    "    plt.xlabel('Relative Importance')\n",
    "    plt.title('Variable Importance')\n",
    "    plt.show()\n",
    "    \n"
   ]
  },
  {
   "cell_type": "code",
   "execution_count": null,
   "metadata": {
    "collapsed": true
   },
   "outputs": [],
   "source": []
  }
 ],
 "metadata": {
  "kernelspec": {
   "display_name": "Python 2",
   "language": "python",
   "name": "python2"
  },
  "language_info": {
   "codemirror_mode": {
    "name": "ipython",
    "version": 2
   },
   "file_extension": ".py",
   "mimetype": "text/x-python",
   "name": "python",
   "nbconvert_exporter": "python",
   "pygments_lexer": "ipython2",
   "version": "2.7.13"
  }
 },
 "nbformat": 4,
 "nbformat_minor": 2
}
